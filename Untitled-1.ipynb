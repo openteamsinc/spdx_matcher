{
 "cells": [
  {
   "cell_type": "code",
   "execution_count": 1,
   "id": "b406804e",
   "metadata": {},
   "outputs": [],
   "source": [
    "import spdx_matcher.license_loader"
   ]
  },
  {
   "cell_type": "code",
   "execution_count": 2,
   "id": "d01c5b12",
   "metadata": {},
   "outputs": [
    {
     "data": {
      "text/plain": [
       "<module 'spdx_matcher.license_loader' from '/Users/sean/Documents/github.com/openteamsinc/spdx-matcher/spdx_matcher/license_loader.py'>"
      ]
     },
     "execution_count": 2,
     "metadata": {},
     "output_type": "execute_result"
    }
   ],
   "source": [
    "spdx_matcher.license_loader"
   ]
  },
  {
   "cell_type": "code",
   "execution_count": 4,
   "id": "b77d1163",
   "metadata": {},
   "outputs": [
    {
     "ename": "NameError",
     "evalue": "name 'license_dir' is not defined",
     "output_type": "error",
     "traceback": [
      "\u001b[0;31m---------------------------------------------------------------------------\u001b[0m",
      "\u001b[0;31mNameError\u001b[0m                                 Traceback (most recent call last)",
      "Cell \u001b[0;32mIn[4], line 1\u001b[0m\n\u001b[0;32m----> 1\u001b[0m \u001b[43mspdx_matcher\u001b[49m\u001b[38;5;241;43m.\u001b[39;49m\u001b[43mlicense_loader\u001b[49m\u001b[38;5;241;43m.\u001b[39;49m\u001b[43mload_licenses\u001b[49m\u001b[43m(\u001b[49m\u001b[43m)\u001b[49m\n",
      "File \u001b[0;32m~/Documents/github.com/openteamsinc/spdx-matcher/spdx_matcher/license_loader.py:18\u001b[0m, in \u001b[0;36mload_licenses\u001b[0;34m()\u001b[0m\n\u001b[1;32m      8\u001b[0m \u001b[38;5;250m\u001b[39m\u001b[38;5;124;03m\"\"\"\u001b[39;00m\n\u001b[1;32m      9\u001b[0m \u001b[38;5;124;03mLoad all SPDX license XML files from the specified directory into a dictionary.\u001b[39;00m\n\u001b[1;32m     10\u001b[0m \n\u001b[0;32m   (...)\u001b[0m\n\u001b[1;32m     15\u001b[0m \u001b[38;5;124;03m    Dictionary with SPDX IDs as keys and license data as values\u001b[39;00m\n\u001b[1;32m     16\u001b[0m \u001b[38;5;124;03m\"\"\"\u001b[39;00m\n\u001b[1;32m     17\u001b[0m licenses \u001b[38;5;241m=\u001b[39m {}\n\u001b[0;32m---> 18\u001b[0m license_path \u001b[38;5;241m=\u001b[39m Path(\u001b[43mlicense_dir\u001b[49m)\n\u001b[1;32m     20\u001b[0m \u001b[38;5;66;03m# Register the namespace to avoid the ns0 prefix in element tags\u001b[39;00m\n\u001b[1;32m     21\u001b[0m ET\u001b[38;5;241m.\u001b[39mregister_namespace(\u001b[38;5;124m\"\u001b[39m\u001b[38;5;124m\"\u001b[39m, \u001b[38;5;124m\"\u001b[39m\u001b[38;5;124mhttp://www.spdx.org/license\u001b[39m\u001b[38;5;124m\"\u001b[39m)\n",
      "\u001b[0;31mNameError\u001b[0m: name 'license_dir' is not defined"
     ]
    }
   ],
   "source": [
    "spdx_matcher.license_loader.load_licenses()"
   ]
  },
  {
   "cell_type": "code",
   "execution_count": null,
   "id": "010e3abc",
   "metadata": {},
   "outputs": [],
   "source": []
  }
 ],
 "metadata": {
  "kernelspec": {
   "display_name": "venv10",
   "language": "python",
   "name": "python3"
  },
  "language_info": {
   "codemirror_mode": {
    "name": "ipython",
    "version": 3
   },
   "file_extension": ".py",
   "mimetype": "text/x-python",
   "name": "python",
   "nbconvert_exporter": "python",
   "pygments_lexer": "ipython3",
   "version": "3.10.13"
  }
 },
 "nbformat": 4,
 "nbformat_minor": 5
}
